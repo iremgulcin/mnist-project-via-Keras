{
  "nbformat": 4,
  "nbformat_minor": 0,
  "metadata": {
    "colab": {
      "name": "mnist_project_keras.ipynb",
      "version": "0.3.2",
      "provenance": [],
      "collapsed_sections": []
    },
    "kernelspec": {
      "name": "python3",
      "display_name": "Python 3"
    },
    "accelerator": "GPU"
  },
  "cells": [
    {
      "cell_type": "code",
      "metadata": {
        "id": "z78tvn8bQ7g8",
        "colab_type": "code",
        "colab": {
          "base_uri": "https://localhost:8080/",
          "height": 35
        },
        "outputId": "bda57412-3694-47c4-e49e-bb448be0eb05"
      },
      "source": [
        "#import libraries \n",
        "import keras\n",
        "from keras.datasets import mnist\n",
        "from keras.models import Sequential\n",
        "from keras.layers import Dense, Dropout, Flatten, Conv2D, MaxPooling2D\n",
        "import matplotlib.pyplot as plt\n",
        "import random"
      ],
      "execution_count": 1,
      "outputs": [
        {
          "output_type": "stream",
          "text": [
            "Using TensorFlow backend.\n"
          ],
          "name": "stderr"
        }
      ]
    },
    {
      "cell_type": "code",
      "metadata": {
        "id": "TmLalSujcuyU",
        "colab_type": "code",
        "colab": {}
      },
      "source": [
        "#download the dataset\n",
        "(x_train, y_train), (x_test, y_test)=mnist.load_data()"
      ],
      "execution_count": 0,
      "outputs": []
    },
    {
      "cell_type": "code",
      "metadata": {
        "id": "6yvoRCfwc3vF",
        "colab_type": "code",
        "colab": {}
      },
      "source": [
        "#dataset is obtain handwriting numbers from 0-9\n",
        "numbers=10\n",
        "\n",
        "#convert class vector to binary class matrix\n",
        "y_train=keras.utils.to_categorical(y_train, numbers)\n",
        "\n",
        "y_test=keras.utils.to_categorical(y_test, numbers)"
      ],
      "execution_count": 0,
      "outputs": []
    },
    {
      "cell_type": "code",
      "metadata": {
        "id": "IIpbMNVaePSN",
        "colab_type": "code",
        "colab": {
          "base_uri": "https://localhost:8080/",
          "height": 287
        },
        "outputId": "d2f42868-4cd3-4a56-cc0a-27c23788441f"
      },
      "source": [
        "i=random.randint(0, 60000)\n",
        "plt.imshow(x_train[i], cmap=\"gray\")\n",
        "print(y_train[1])\n"
      ],
      "execution_count": 4,
      "outputs": [
        {
          "output_type": "stream",
          "text": [
            "[1. 0. 0. 0. 0. 0. 0. 0. 0. 0.]\n"
          ],
          "name": "stdout"
        },
        {
          "output_type": "display_data",
          "data": {
            "image/png": "[encoded data removed]",
            "text/plain": [
              "<Figure size 432x288 with 1 Axes>"
            ]
          },
          "metadata": {
            "tags": []
          }
        }
      ]
    },
    {
      "cell_type": "code",
      "metadata": {
        "id": "O7wPlp2Sq2Wl",
        "colab_type": "code",
        "colab": {}
      },
      "source": [
        "#normalize the array\n",
        "x_train=keras.utils.normalize(x_train, axis=1)\n",
        "x_test=keras.utils.normalize(x_test, axis=1)"
      ],
      "execution_count": 0,
      "outputs": []
    },
    {
      "cell_type": "code",
      "metadata": {
        "id": "YCz5SWHSrfTD",
        "colab_type": "code",
        "colab": {
          "base_uri": "https://localhost:8080/",
          "height": 287
        },
        "outputId": "d3246770-c161-41bf-90cc-5077585c9125"
      },
      "source": [
        "#after normalization the brightness reduces\n",
        "i=random.randint(0, 40000)\n",
        "plt.imshow(x_train[i], cmap=\"gray\")\n",
        "print(y_train[1])"
      ],
      "execution_count": 6,
      "outputs": [
        {
          "output_type": "stream",
          "text": [
            "[1. 0. 0. 0. 0. 0. 0. 0. 0. 0.]\n"
          ],
          "name": "stdout"
        },
        {
          "output_type": "display_data",
          "data": {
            "image/png": "[encoded data removed]",
            "text/plain": [
              "<Figure size 432x288 with 1 Axes>"
            ]
          },
          "metadata": {
            "tags": []
          }
        }
      ]
    },
    {
      "cell_type": "code",
      "metadata": {
        "id": "vqKY8gi0eud7",
        "colab_type": "code",
        "colab": {}
      },
      "source": [
        "#reshape the array from (60000, 28, 28) to (60000, 28, 28, 1)\n",
        "x_train=x_train.reshape(60000,28,28,1).astype(\"float32\")\n",
        "x_test=x_test.reshape(10000,28,28,1).astype(\"float32\")\n"
      ],
      "execution_count": 0,
      "outputs": []
    },
    {
      "cell_type": "code",
      "metadata": {
        "id": "jzgv7Ihvr-5v",
        "colab_type": "code",
        "colab": {
          "base_uri": "https://localhost:8080/",
          "height": 294
        },
        "outputId": "3aa235a0-da5c-4bac-e695-8856a1be34d4"
      },
      "source": [
        "#build the Sequential model by using the convolutional and the pooling layers\n",
        "model= Sequential()\n",
        "model.add(Conv2D(16, kernel_size=[3,3], input_shape=[28,28,1], activation=\"relu\"))\n",
        "model.add(Conv2D(32, kernel_size=[3,3], activation=\"relu\"))\n",
        "model.add(MaxPooling2D(pool_size=3, strides=None, padding='valid', data_format=None))\n",
        "model.add(Dropout(0.25))\n",
        "model.add(Flatten())\n",
        "model.add(Dense(128, activation=\"relu\"))\n",
        "model.add(Dropout(0.5))\n",
        "model.add(Dense(10, activation=\"relu\"))\n",
        "model.add(keras.layers.Activation(\"softmax\"))"
      ],
      "execution_count": 10,
      "outputs": [
        {
          "output_type": "stream",
          "text": [
            "WARNING: Logging before flag parsing goes to stderr.\n",
            "W0729 13:02:19.198422 140514857224064 deprecation_wrapper.py:119] From /usr/local/lib/python3.6/dist-packages/keras/backend/tensorflow_backend.py:74: The name tf.get_default_graph is deprecated. Please use tf.compat.v1.get_default_graph instead.\n",
            "\n",
            "W0729 13:02:19.219063 140514857224064 deprecation_wrapper.py:119] From /usr/local/lib/python3.6/dist-packages/keras/backend/tensorflow_backend.py:517: The name tf.placeholder is deprecated. Please use tf.compat.v1.placeholder instead.\n",
            "\n",
            "W0729 13:02:19.224170 140514857224064 deprecation_wrapper.py:119] From /usr/local/lib/python3.6/dist-packages/keras/backend/tensorflow_backend.py:4138: The name tf.random_uniform is deprecated. Please use tf.random.uniform instead.\n",
            "\n",
            "W0729 13:02:19.255557 140514857224064 deprecation_wrapper.py:119] From /usr/local/lib/python3.6/dist-packages/keras/backend/tensorflow_backend.py:3976: The name tf.nn.max_pool is deprecated. Please use tf.nn.max_pool2d instead.\n",
            "\n",
            "W0729 13:02:19.259181 140514857224064 deprecation_wrapper.py:119] From /usr/local/lib/python3.6/dist-packages/keras/backend/tensorflow_backend.py:133: The name tf.placeholder_with_default is deprecated. Please use tf.compat.v1.placeholder_with_default instead.\n",
            "\n",
            "W0729 13:02:19.271147 140514857224064 deprecation.py:506] From /usr/local/lib/python3.6/dist-packages/keras/backend/tensorflow_backend.py:3445: calling dropout (from tensorflow.python.ops.nn_ops) with keep_prob is deprecated and will be removed in a future version.\n",
            "Instructions for updating:\n",
            "Please use `rate` instead of `keep_prob`. Rate should be set to `rate = 1 - keep_prob`.\n"
          ],
          "name": "stderr"
        }
      ]
    },
    {
      "cell_type": "code",
      "metadata": {
        "id": "KC17QxcEsQCr",
        "colab_type": "code",
        "colab": {
          "base_uri": "https://localhost:8080/",
          "height": 110
        },
        "outputId": "1eb0163d-d183-4002-a360-7823767fe0b8"
      },
      "source": [
        "model.compile(loss=keras.losses.categorical_crossentropy, optimizer=keras.optimizers.adam(), metrics=[\"accuracy\"])"
      ],
      "execution_count": 11,
      "outputs": [
        {
          "output_type": "stream",
          "text": [
            "W0729 13:02:20.342853 140514857224064 deprecation_wrapper.py:119] From /usr/local/lib/python3.6/dist-packages/keras/optimizers.py:790: The name tf.train.Optimizer is deprecated. Please use tf.compat.v1.train.Optimizer instead.\n",
            "\n",
            "W0729 13:02:20.354821 140514857224064 deprecation_wrapper.py:119] From /usr/local/lib/python3.6/dist-packages/keras/backend/tensorflow_backend.py:3295: The name tf.log is deprecated. Please use tf.math.log instead.\n",
            "\n"
          ],
          "name": "stderr"
        }
      ]
    },
    {
      "cell_type": "code",
      "metadata": {
        "id": "0a66bZ_8sVLL",
        "colab_type": "code",
        "colab": {
          "base_uri": "https://localhost:8080/",
          "height": 515
        },
        "outputId": "55cd549e-7c85-4ca8-a7b4-895457b89d1f"
      },
      "source": [
        "batch_size=64\n",
        "model.fit(x_train, y_train, batch_size=batch_size, epochs=10, verbose=1, validation_data=(x_test, y_test), callbacks=None)\n",
        "\n",
        "score=model.evaluate(x_test, y_test, verbose=0)\n",
        "print(\"Test loss{0}\".format(score[0]))\n",
        "print(\"Test accuracy{0}\".format(score[1]))"
      ],
      "execution_count": 12,
      "outputs": [
        {
          "output_type": "stream",
          "text": [
            "W0729 13:02:22.907040 140514857224064 deprecation.py:323] From /usr/local/lib/python3.6/dist-packages/tensorflow/python/ops/math_grad.py:1250: add_dispatch_support.<locals>.wrapper (from tensorflow.python.ops.array_ops) is deprecated and will be removed in a future version.\n",
            "Instructions for updating:\n",
            "Use tf.where in 2.0, which has the same broadcast rule as np.where\n"
          ],
          "name": "stderr"
        },
        {
          "output_type": "stream",
          "text": [
            "Train on 60000 samples, validate on 10000 samples\n",
            "Epoch 1/10\n",
            "60000/60000 [==============================] - 11s 187us/step - loss: 0.3511 - acc: 0.8930 - val_loss: 0.0746 - val_acc: 0.9774\n",
            "Epoch 2/10\n",
            "60000/60000 [==============================] - 10s 161us/step - loss: 0.1197 - acc: 0.9648 - val_loss: 0.0498 - val_acc: 0.9850\n",
            "Epoch 3/10\n",
            "60000/60000 [==============================] - 10s 167us/step - loss: 0.0853 - acc: 0.9744 - val_loss: 0.0393 - val_acc: 0.9870\n",
            "Epoch 4/10\n",
            "60000/60000 [==============================] - 10s 162us/step - loss: 0.0734 - acc: 0.9778 - val_loss: 0.0375 - val_acc: 0.9880\n",
            "Epoch 5/10\n",
            "60000/60000 [==============================] - 10s 161us/step - loss: 0.0617 - acc: 0.9811 - val_loss: 0.0335 - val_acc: 0.9905\n",
            "Epoch 6/10\n",
            "60000/60000 [==============================] - 10s 160us/step - loss: 0.0569 - acc: 0.9825 - val_loss: 0.0298 - val_acc: 0.9910\n",
            "Epoch 7/10\n",
            "60000/60000 [==============================] - 10s 160us/step - loss: 0.0507 - acc: 0.9847 - val_loss: 0.0289 - val_acc: 0.9911\n",
            "Epoch 8/10\n",
            "60000/60000 [==============================] - 10s 159us/step - loss: 0.0468 - acc: 0.9855 - val_loss: 0.0299 - val_acc: 0.9902\n",
            "Epoch 9/10\n",
            "60000/60000 [==============================] - 10s 159us/step - loss: 0.0444 - acc: 0.9859 - val_loss: 0.0294 - val_acc: 0.9916\n",
            "Epoch 10/10\n",
            "60000/60000 [==============================] - 10s 159us/step - loss: 0.0433 - acc: 0.9865 - val_loss: 0.0246 - val_acc: 0.9921\n",
            "Test loss0.02455469572167349\n",
            "Test accuracy0.9921\n"
          ],
          "name": "stdout"
        }
      ]
    },
    {
      "cell_type": "code",
      "metadata": {
        "id": "jp2cI_D31Vch",
        "colab_type": "code",
        "colab": {}
      },
      "source": [
        ""
      ],
      "execution_count": 0,
      "outputs": []
    }
  ]
}